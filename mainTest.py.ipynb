{
 "cells": [
  {
   "cell_type": "code",
   "execution_count": 1,
   "id": "980059e5",
   "metadata": {},
   "outputs": [],
   "source": [
    "import cv2\n",
    "from keras.models import load_model\n",
    "from PIL import Image\n",
    "import numpy as np\n",
    "import matplotlib.pyplot as plt\n",
    "from matplotlib import style\n"
   ]
  },
  {
   "cell_type": "code",
   "execution_count": 2,
   "id": "484e038f",
   "metadata": {},
   "outputs": [
    {
     "name": "stdout",
     "output_type": "stream",
     "text": [
      "1/1 [==============================] - 1s 519ms/step\n",
      "[[1.]]\n"
     ]
    }
   ],
   "source": [
    "model=load_model('BrainTumor10Epochs.h5')\n",
    "\n",
    "image=cv2.imread('D:\\\\Minor_project\\\\datasets\\\\pred\\\\pred45.jpg')\n",
    "\n",
    "img=Image.fromarray(image)\n",
    "img=img.resize((64,64))\n",
    "img=np.array(img)\n",
    "\n",
    "input_img=np.expand_dims(img,axis=0)\n",
    "\n",
    "result=model.predict(input_img)\n",
    "print(result)"
   ]
  }
 ],
 "metadata": {
  "kernelspec": {
   "display_name": "Python 3 (ipykernel)",
   "language": "python",
   "name": "python3"
  },
  "language_info": {
   "codemirror_mode": {
    "name": "ipython",
    "version": 3
   },
   "file_extension": ".py",
   "mimetype": "text/x-python",
   "name": "python",
   "nbconvert_exporter": "python",
   "pygments_lexer": "ipython3",
   "version": "3.9.13"
  }
 },
 "nbformat": 4,
 "nbformat_minor": 5
}
